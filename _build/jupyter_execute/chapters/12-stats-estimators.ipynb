{
 "cells": [
  {
   "cell_type": "markdown",
   "id": "224dd343",
   "metadata": {},
   "source": [
    "**THIS CHAPTER IS CURRENTLY UNDER CONSTRUCTION!!!**\n",
    "\n",
    "(stats-estimators)=\n",
    "# Bayesian parameter estimation"
   ]
  }
 ],
 "metadata": {
  "jupytext": {
   "formats": "md:myst",
   "text_representation": {
    "extension": ".md",
    "format_name": "myst"
   }
  },
  "kernelspec": {
   "display_name": "Python 3",
   "language": "python",
   "name": "python3"
  },
  "language_info": {
   "codemirror_mode": {
    "name": "ipython",
    "version": 3
   },
   "file_extension": ".py",
   "mimetype": "text/x-python",
   "name": "python",
   "nbconvert_exporter": "python",
   "pygments_lexer": "ipython3",
   "version": "3.10.12"
  },
  "source_map": [
   11
  ]
 },
 "nbformat": 4,
 "nbformat_minor": 5
}