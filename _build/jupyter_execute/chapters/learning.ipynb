{
 "cells": [
  {
   "cell_type": "markdown",
   "id": "70c97e67",
   "metadata": {},
   "source": [
    "(learning)=\n",
    "# Learning\n",
    "\n",
    "(mle-lin-reg-sec)=\n",
    "## MLE for linear regression models\n",
    "\n",
    "## MLE for logistic regression models\n",
    "\n",
    "## MLE for neural networks\n",
    "\n",
    "## Expectation maximization (EM)\n",
    "\n",
    "### Vanilla EM\n",
    "\n",
    "### Monte Carlo EM (MCEM)\n",
    "\n",
    "### EM for Gaussian mixture models"
   ]
  }
 ],
 "metadata": {
  "jupytext": {
   "formats": "md:myst",
   "text_representation": {
    "extension": ".md",
    "format_name": "myst"
   }
  },
  "kernelspec": {
   "display_name": "Python 3",
   "language": "python",
   "name": "python3"
  },
  "language_info": {
   "codemirror_mode": {
    "name": "ipython",
    "version": 3
   },
   "file_extension": ".py",
   "mimetype": "text/x-python",
   "name": "python",
   "nbconvert_exporter": "python",
   "pygments_lexer": "ipython3",
   "version": "3.11.4"
  },
  "source_map": [
   11
  ]
 },
 "nbformat": 4,
 "nbformat_minor": 5
}