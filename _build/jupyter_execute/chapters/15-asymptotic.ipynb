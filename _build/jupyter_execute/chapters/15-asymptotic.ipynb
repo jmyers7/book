{
 "cells": [
  {
   "cell_type": "markdown",
   "id": "bbbb9a33",
   "metadata": {},
   "source": [
    "(asymptotic)=\n",
    "# Large sample theory\n",
    "\n",
    "Coming soon!"
   ]
  }
 ],
 "metadata": {
  "jupytext": {
   "formats": "md:myst",
   "text_representation": {
    "extension": ".md",
    "format_name": "myst"
   }
  },
  "kernelspec": {
   "display_name": "Python 3",
   "language": "python",
   "name": "python3"
  },
  "language_info": {
   "codemirror_mode": {
    "name": "ipython",
    "version": 3
   },
   "file_extension": ".py",
   "mimetype": "text/x-python",
   "name": "python",
   "nbconvert_exporter": "python",
   "pygments_lexer": "ipython3",
   "version": "3.10.12"
  },
  "source_map": [
   11
  ]
 },
 "nbformat": 4,
 "nbformat_minor": 5
}